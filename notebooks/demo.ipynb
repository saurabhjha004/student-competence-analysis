{
 "cells": [
  {
   "cell_type": "markdown",
   "id": "1c3f5804",
   "metadata": {},
   "source": [
    "from src.python_code_analyzer import PythonCodeAnalyzer\n",
    "from transformers import AutoTokenizer, AutoModel\n",
    "import torch"
   ]
  },
  {
   "cell_type": "markdown",
   "id": "022b15f3",
   "metadata": {},
   "source": [
    "tokenizer = AutoTokenizer.from_pretrained(\"microsoft/codebert-base\")\n",
    "model = AutoModel.from_pretrained(\"microsoft/codebert-base\")"
   ]
  },
  {
   "cell_type": "markdown",
   "id": "3e37c8c7",
   "metadata": {},
   "source": [
    "student_code = \"\"\"\n",
    "def add_numbers(a, b):\n",
    "    return a - b   # subtraction instead of addition\n",
    "print(add_numbers(3, 2))\n",
    "\"\"\""
   ]
  },
  {
   "cell_type": "markdown",
   "id": "9e34968a",
   "metadata": {},
   "source": [
    "analyzer = PythonCodeAnalyzer()\n",
    "parsed = analyzer.parse_code(student_code)\n",
    "features = analyzer.extract_features(parsed[\"tree\"])\n",
    "features"
   ]
  }
 ],
 "metadata": {
  "language_info": {
   "name": "python"
  }
 },
 "nbformat": 4,
 "nbformat_minor": 5
}
